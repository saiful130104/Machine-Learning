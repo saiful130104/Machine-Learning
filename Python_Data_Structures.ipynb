{
 "cells": [
  {
   "cell_type": "markdown",
   "metadata": {},
   "source": [
    "<h2>Python Data Structures</h2>"
   ]
  },
  {
   "cell_type": "markdown",
   "metadata": {},
   "source": [
    "<h3>Boolean</h3>"
   ]
  },
  {
   "cell_type": "code",
   "execution_count": 1,
   "metadata": {
    "ExecuteTime": {
     "end_time": "2020-01-22T05:34:13.269776Z",
     "start_time": "2020-01-22T05:34:13.266923Z"
    }
   },
   "outputs": [],
   "source": [
    "my_str = \"isaifulislam123\""
   ]
  },
  {
   "cell_type": "code",
   "execution_count": 2,
   "metadata": {
    "ExecuteTime": {
     "end_time": "2020-01-22T05:34:13.383036Z",
     "start_time": "2020-01-22T05:34:13.272056Z"
    }
   },
   "outputs": [
    {
     "name": "stdout",
     "output_type": "stream",
     "text": [
      "True\n",
      "False\n",
      "False\n",
      "False\n",
      "False\n",
      "True\n",
      "False\n",
      "False\n",
      "False\n"
     ]
    }
   ],
   "source": [
    "print(my_str.isalnum()) # check if all are numbers\n",
    "print(my_str.isalpha()) # check if all char are alphabetic\n",
    "print(my_str.isdigit()) # test if string contains digits\n",
    "print(my_str.istitle()) # test if string contains title words\n",
    "print(my_str.isupper()) # test if string contains upper case\n",
    "print(my_str.islower()) # test if string contains lower case\n",
    "print(my_str.isspace()) # test if string contains spaces\n",
    "print(my_str.endswith('x')) # test if string endswith a x\n",
    "print(my_str.startswith('x')) # test if string startswith a x"
   ]
  },
  {
   "cell_type": "markdown",
   "metadata": {},
   "source": [
    "<h3> Boolean and Logical Operation</h3>"
   ]
  },
  {
   "cell_type": "code",
   "execution_count": 3,
   "metadata": {
    "ExecuteTime": {
     "end_time": "2020-01-22T05:34:13.477990Z",
     "start_time": "2020-01-22T05:34:13.386270Z"
    }
   },
   "outputs": [
    {
     "name": "stdout",
     "output_type": "stream",
     "text": [
      "True\n",
      "False\n",
      "True\n",
      "True\n"
     ]
    }
   ],
   "source": [
    "print(True and True)\n",
    "print(True and False)\n",
    "print(True or False)\n",
    "print(True or True)"
   ]
  },
  {
   "cell_type": "markdown",
   "metadata": {},
   "source": [
    "<h2>List</h2>"
   ]
  },
  {
   "cell_type": "markdown",
   "metadata": {},
   "source": [
    "<p>A list is a data structure in Python that is a mutable, or changeable, ordered sequence of elements. Each element or value that is inside of a list is called an item. Just as strings are defined as characters between quotes,lists are defined by having values between square brackets[]</p>"
   ]
  },
  {
   "cell_type": "code",
   "execution_count": 4,
   "metadata": {
    "ExecuteTime": {
     "end_time": "2020-01-22T05:34:13.603719Z",
     "start_time": "2020-01-22T05:34:13.479888Z"
    }
   },
   "outputs": [
    {
     "data": {
      "text/plain": [
       "list"
      ]
     },
     "execution_count": 4,
     "metadata": {},
     "output_type": "execute_result"
    }
   ],
   "source": [
    "type([])"
   ]
  },
  {
   "cell_type": "code",
   "execution_count": 5,
   "metadata": {
    "ExecuteTime": {
     "end_time": "2020-01-22T05:34:13.690634Z",
     "start_time": "2020-01-22T05:34:13.607471Z"
    }
   },
   "outputs": [
    {
     "data": {
      "text/plain": [
       "list"
      ]
     },
     "execution_count": 5,
     "metadata": {},
     "output_type": "execute_result"
    }
   ],
   "source": [
    "my_list = []\n",
    "type(my_list)"
   ]
  },
  {
   "cell_type": "code",
   "execution_count": 6,
   "metadata": {
    "ExecuteTime": {
     "end_time": "2020-01-22T05:34:13.767017Z",
     "start_time": "2020-01-22T05:34:13.693533Z"
    }
   },
   "outputs": [
    {
     "data": {
      "text/plain": [
       "list"
      ]
     },
     "execution_count": 6,
     "metadata": {},
     "output_type": "execute_result"
    }
   ],
   "source": [
    "my_list = list()\n",
    "type(my_list)"
   ]
  },
  {
   "cell_type": "markdown",
   "metadata": {},
   "source": [
    "<h3> Built in functions of list</h3>"
   ]
  },
  {
   "cell_type": "markdown",
   "metadata": {},
   "source": [
    "<h4>Append</h4>"
   ]
  },
  {
   "cell_type": "code",
   "execution_count": 35,
   "metadata": {
    "ExecuteTime": {
     "end_time": "2020-01-22T05:44:53.508880Z",
     "start_time": "2020-01-22T05:44:53.498623Z"
    }
   },
   "outputs": [
    {
     "data": {
      "text/plain": [
       "[1, 2, 3, 4, 5, 4, 4, 5, 'saiful', 'islam']"
      ]
     },
     "execution_count": 35,
     "metadata": {},
     "output_type": "execute_result"
    }
   ],
   "source": [
    "my_list.append(\"saiful\")\n",
    "my_list.append(\"islam\")\n",
    "\n",
    "my_list"
   ]
  },
  {
   "cell_type": "markdown",
   "metadata": {},
   "source": [
    "<h4>Insert(index,value)</h4>"
   ]
  },
  {
   "cell_type": "code",
   "execution_count": 36,
   "metadata": {
    "ExecuteTime": {
     "end_time": "2020-01-22T05:44:54.372224Z",
     "start_time": "2020-01-22T05:44:54.362806Z"
    }
   },
   "outputs": [
    {
     "data": {
      "text/plain": [
       "[1, '-', 2, 3, 4, 5, 4, 4, 5, 'saiful', 'islam']"
      ]
     },
     "execution_count": 36,
     "metadata": {},
     "output_type": "execute_result"
    }
   ],
   "source": [
    "my_list.insert(1, \"-\")\n",
    "my_list"
   ]
  },
  {
   "cell_type": "markdown",
   "metadata": {},
   "source": [
    "<h4>Extend</h4>\n",
    "<p>In append if I multiple values are needed to be append then we need to write multiple line but here we can extend it and pass a list of parameter</p>"
   ]
  },
  {
   "cell_type": "code",
   "execution_count": 37,
   "metadata": {
    "ExecuteTime": {
     "end_time": "2020-01-22T05:44:55.231899Z",
     "start_time": "2020-01-22T05:44:55.225516Z"
    }
   },
   "outputs": [
    {
     "data": {
      "text/plain": [
       "[1, '-', 2, 3, 4, 5, 4, 4, 5, 'saiful', 'islam', 4, 5]"
      ]
     },
     "execution_count": 37,
     "metadata": {},
     "output_type": "execute_result"
    }
   ],
   "source": [
    "my_list.extend([4,5])\n",
    "my_list"
   ]
  },
  {
   "cell_type": "markdown",
   "metadata": {},
   "source": [
    "<h4>Some Operations that we can perform in List</h4>\n",
    "<p>sum(),pop(),count(),index(),min(),max()</p>"
   ]
  },
  {
   "cell_type": "code",
   "execution_count": 38,
   "metadata": {
    "ExecuteTime": {
     "end_time": "2020-01-22T05:44:56.234664Z",
     "start_time": "2020-01-22T05:44:56.227593Z"
    }
   },
   "outputs": [
    {
     "data": {
      "text/plain": [
       "28"
      ]
     },
     "execution_count": 38,
     "metadata": {},
     "output_type": "execute_result"
    }
   ],
   "source": [
    "my_list = [1,2,3,4,5,4,4,5]\n",
    "# Sum of all elements in the list\n",
    "sum(my_list)"
   ]
  },
  {
   "cell_type": "code",
   "execution_count": 39,
   "metadata": {
    "ExecuteTime": {
     "end_time": "2020-01-22T05:44:56.633887Z",
     "start_time": "2020-01-22T05:44:56.620613Z"
    }
   },
   "outputs": [
    {
     "data": {
      "text/plain": [
       "5"
      ]
     },
     "execution_count": 39,
     "metadata": {},
     "output_type": "execute_result"
    }
   ],
   "source": [
    "my_list = [1,2,3,4,5,4,4,5]\n",
    "# pop out(remove) the last elements of list\n",
    "my_list.pop()"
   ]
  },
  {
   "cell_type": "code",
   "execution_count": 40,
   "metadata": {
    "ExecuteTime": {
     "end_time": "2020-01-22T05:44:57.153761Z",
     "start_time": "2020-01-22T05:44:57.141136Z"
    }
   },
   "outputs": [
    {
     "data": {
      "text/plain": [
       "1"
      ]
     },
     "execution_count": 40,
     "metadata": {},
     "output_type": "execute_result"
    }
   ],
   "source": [
    "my_list = [1,2,3,4,5,4,4,5]\n",
    "# if pop is used as a parameterized then it would be the index\n",
    "my_list.pop(0)"
   ]
  },
  {
   "cell_type": "code",
   "execution_count": 41,
   "metadata": {
    "ExecuteTime": {
     "end_time": "2020-01-22T05:44:57.582533Z",
     "start_time": "2020-01-22T05:44:57.563765Z"
    }
   },
   "outputs": [
    {
     "data": {
      "text/plain": [
       "3"
      ]
     },
     "execution_count": 41,
     "metadata": {},
     "output_type": "execute_result"
    }
   ],
   "source": [
    "my_list = [1,2,3,4,5,4,4,5]\n",
    "# Count frequencis of the parameterized element \n",
    "my_list.count(4)"
   ]
  },
  {
   "cell_type": "code",
   "execution_count": 42,
   "metadata": {
    "ExecuteTime": {
     "end_time": "2020-01-22T05:44:58.134236Z",
     "start_time": "2020-01-22T05:44:58.119486Z"
    }
   },
   "outputs": [
    {
     "name": "stdout",
     "output_type": "stream",
     "text": [
      "3\n",
      "5\n",
      "6\n"
     ]
    }
   ],
   "source": [
    "my_list = [1,2,3,4,5,4,4,5]\n",
    "# index(value of which index I want,start , end index(optional))\n",
    "print(my_list.index(4))\n",
    "print(my_list.index(4,4))\n",
    "print(my_list.index(4,6,7))"
   ]
  },
  {
   "cell_type": "code",
   "execution_count": 43,
   "metadata": {
    "ExecuteTime": {
     "end_time": "2020-01-22T05:44:58.625593Z",
     "start_time": "2020-01-22T05:44:58.608979Z"
    }
   },
   "outputs": [
    {
     "name": "stdout",
     "output_type": "stream",
     "text": [
      "Max value = 5 \n",
      "Min value = 1\n"
     ]
    }
   ],
   "source": [
    "my_list = [1,2,3,4,5,4,4,5]\n",
    "print(\"Max value = {} \\nMin value = {}\".format(max(my_list),min(my_list)))"
   ]
  },
  {
   "cell_type": "markdown",
   "metadata": {},
   "source": [
    "<h2>Set</h2>\n",
    "<p>A set is an unordered collection of data type that is iterable,mutable, and has no duplicate elements. Python's set class represents the mathematical notion of set.This is based on a data structure known as a hash table</p>"
   ]
  },
  {
   "cell_type": "code",
   "execution_count": 44,
   "metadata": {
    "ExecuteTime": {
     "end_time": "2020-01-22T05:44:59.957859Z",
     "start_time": "2020-01-22T05:44:59.953230Z"
    }
   },
   "outputs": [
    {
     "name": "stdout",
     "output_type": "stream",
     "text": [
      "<class 'set'>\n"
     ]
    },
    {
     "data": {
      "text/plain": [
       "set()"
      ]
     },
     "execution_count": 44,
     "metadata": {},
     "output_type": "execute_result"
    }
   ],
   "source": [
    "my_set = set()\n",
    "print(type(my_set))\n",
    "my_set"
   ]
  },
  {
   "cell_type": "code",
   "execution_count": 45,
   "metadata": {
    "ExecuteTime": {
     "end_time": "2020-01-22T05:45:01.143613Z",
     "start_time": "2020-01-22T05:45:01.137194Z"
    }
   },
   "outputs": [
    {
     "data": {
      "text/plain": [
       "{1, 2, 3}"
      ]
     },
     "execution_count": 45,
     "metadata": {},
     "output_type": "execute_result"
    }
   ],
   "source": [
    "# All elements are unique and they are sorted\n",
    "my_set = {2,3,1,3,2,1}\n",
    "my_set"
   ]
  },
  {
   "cell_type": "markdown",
   "metadata": {},
   "source": [
    "<h2>Built in functons of Set</h2>\n",
    "<h4>Set.add()</h4>"
   ]
  },
  {
   "cell_type": "code",
   "execution_count": 18,
   "metadata": {
    "ExecuteTime": {
     "end_time": "2020-01-22T05:34:14.870755Z",
     "start_time": "2020-01-22T05:34:14.779643Z"
    }
   },
   "outputs": [
    {
     "data": {
      "text/plain": [
       "{1, 2, 3, 'Saiful'}"
      ]
     },
     "execution_count": 18,
     "metadata": {},
     "output_type": "execute_result"
    }
   ],
   "source": [
    "my_set.add(\"Saiful\")\n",
    "my_set"
   ]
  },
  {
   "cell_type": "code",
   "execution_count": 20,
   "metadata": {
    "ExecuteTime": {
     "end_time": "2020-01-22T05:34:15.051886Z",
     "start_time": "2020-01-22T05:34:14.961160Z"
    }
   },
   "outputs": [
    {
     "name": "stdout",
     "output_type": "stream",
     "text": [
      "{3, 5}\n",
      "{1, 3, 4, 5}\n",
      "{1, 3, 4, 5} {3, 4, 5}\n"
     ]
    }
   ],
   "source": [
    "my_set = {1, 3, 5}\n",
    "my_sett = {3, 4, 5}\n",
    "\n",
    "# intersection of 2 sets\n",
    "print(my_set.intersection(my_sett))\n",
    "\n",
    "# union of 2 sets\n",
    "print(my_set.union(my_sett))\n",
    "\n",
    "# my_set is being updated doing union with my_sett\n",
    "my_set.update(my_sett)\n",
    "\n",
    "# my_sett is being updated doing intersection with my_set\n",
    "my_sett.intersection_update(my_set)\n",
    "print(my_set,my_sett)"
   ]
  },
  {
   "cell_type": "markdown",
   "metadata": {},
   "source": [
    "<h4>set.difference(set_x)</h4>"
   ]
  },
  {
   "cell_type": "code",
   "execution_count": 24,
   "metadata": {
    "ExecuteTime": {
     "end_time": "2020-01-22T05:35:32.672555Z",
     "start_time": "2020-01-22T05:35:32.664041Z"
    }
   },
   "outputs": [
    {
     "name": "stdout",
     "output_type": "stream",
     "text": [
      "{1}\n",
      "{7}\n",
      "{1} {3, 5, 7}\n"
     ]
    }
   ],
   "source": [
    "set_1, set_2 = {1, 3, 5}, {3, 5, 7}\n",
    "\n",
    "# set_1.difference(set_2) finds the value\n",
    "# those are different from set_1 with respect to set_2\n",
    "print(set_1.difference(set_2))\n",
    "print(set_2.difference(set_1))\n",
    "\n",
    "# difference update will assign the differred value to set_1\n",
    "set_1.difference_update(set_2)\n",
    "print(set_1,set_2)"
   ]
  },
  {
   "cell_type": "markdown",
   "metadata": {},
   "source": [
    "<h4>set.pop()</h4>"
   ]
  },
  {
   "cell_type": "code",
   "execution_count": 22,
   "metadata": {
    "ExecuteTime": {
     "end_time": "2020-01-22T05:34:15.222432Z",
     "start_time": "2020-01-22T05:34:15.147098Z"
    }
   },
   "outputs": [
    {
     "data": {
      "text/plain": [
       "1"
      ]
     },
     "execution_count": 22,
     "metadata": {},
     "output_type": "execute_result"
    }
   ],
   "source": [
    "my_set = {1, 3, 5}\n",
    "# pop out(remove) the first element\n",
    "my_set.pop()"
   ]
  },
  {
   "cell_type": "markdown",
   "metadata": {},
   "source": [
    "<h4>set.remove(element)</h4>"
   ]
  },
  {
   "cell_type": "code",
   "execution_count": 28,
   "metadata": {
    "ExecuteTime": {
     "end_time": "2020-01-22T05:39:28.877760Z",
     "start_time": "2020-01-22T05:39:28.873532Z"
    }
   },
   "outputs": [
    {
     "data": {
      "text/plain": [
       "{1, 5}"
      ]
     },
     "execution_count": 28,
     "metadata": {},
     "output_type": "execute_result"
    }
   ],
   "source": [
    "my_set = {1, 3, 5}\n",
    "# remove the parameterized element from the set\n",
    "# note that the element must be a member of the set\n",
    "my_set.remove(3)\n",
    "my_set"
   ]
  },
  {
   "cell_type": "markdown",
   "metadata": {},
   "source": [
    "<h4>isdisjoint</h4>\n",
    "<p>Check if two set are disjoint or not</p>"
   ]
  },
  {
   "cell_type": "code",
   "execution_count": 34,
   "metadata": {
    "ExecuteTime": {
     "end_time": "2020-01-22T05:44:00.449639Z",
     "start_time": "2020-01-22T05:44:00.442925Z"
    }
   },
   "outputs": [
    {
     "data": {
      "text/plain": [
       "True"
      ]
     },
     "execution_count": 34,
     "metadata": {},
     "output_type": "execute_result"
    }
   ],
   "source": [
    "my_set = {1, 3, 5}\n",
    "my_sett = {2, 6}\n",
    "my_sett.isdisjoint(my_set)"
   ]
  },
  {
   "cell_type": "markdown",
   "metadata": {},
   "source": [
    "<h2>Dictonaries</h2>\n",
    "<p>A dictionary is a collection which is unordered, changeable and indexed. In Python dictionaries are written with curly brackets, and they have keys and values</p>"
   ]
  },
  {
   "cell_type": "code",
   "execution_count": 59,
   "metadata": {
    "ExecuteTime": {
     "end_time": "2020-01-22T06:04:12.959843Z",
     "start_time": "2020-01-22T06:04:12.951592Z"
    }
   },
   "outputs": [
    {
     "name": "stdout",
     "output_type": "stream",
     "text": [
      "name1\n",
      "name2\n",
      "Saiful\n",
      "Shamim\n",
      "name1 Saiful\n",
      "name2 Shamim\n"
     ]
    }
   ],
   "source": [
    "dic = {}\n",
    "type(dic)\n",
    "dic = {\"name1\": \"Saiful\", \"name2\": \"Shamim\"}\n",
    "\n",
    "# iteration with the keys\n",
    "for i in dic:\n",
    "    print(i)\n",
    "    \n",
    "# iteration with the values\n",
    "for i in dic.values():\n",
    "    print(i)\n",
    "    \n",
    "# iteration with both keys and values\n",
    "for i,j in dic.items():\n",
    "    print(i,j)"
   ]
  },
  {
   "cell_type": "markdown",
   "metadata": {},
   "source": [
    "<h2>Tuples</h2>\n",
    "<p>A tuples is immuteable</p>"
   ]
  },
  {
   "cell_type": "code",
   "execution_count": 64,
   "metadata": {
    "ExecuteTime": {
     "end_time": "2020-01-22T06:27:41.248579Z",
     "start_time": "2020-01-22T06:27:41.241898Z"
    }
   },
   "outputs": [
    {
     "data": {
      "text/plain": [
       "('Saiful', 'Islam', 123)"
      ]
     },
     "execution_count": 64,
     "metadata": {},
     "output_type": "execute_result"
    }
   ],
   "source": [
    "my_tuple = ()\n",
    "my_tuple = (\"Saiful\",\"Islam\",123)\n",
    "my_tuple"
   ]
  },
  {
   "cell_type": "markdown",
   "metadata": {
    "ExecuteTime": {
     "end_time": "2020-01-22T06:29:14.672273Z",
     "start_time": "2020-01-22T06:29:14.665738Z"
    }
   },
   "source": [
    "<h4>tuple.count(value),tuple.index(value)</h4>"
   ]
  },
  {
   "cell_type": "code",
   "execution_count": 72,
   "metadata": {
    "ExecuteTime": {
     "end_time": "2020-01-22T06:33:49.493375Z",
     "start_time": "2020-01-22T06:33:49.489685Z"
    }
   },
   "outputs": [
    {
     "name": "stdout",
     "output_type": "stream",
     "text": [
      "2\n",
      "2\n"
     ]
    }
   ],
   "source": [
    "my_tuple = (\"Saiful\",\"Islam\",123,\"Saiful\",123)\n",
    "print(my_tuple.count(\"Saiful\"))\n",
    "print(my_tuple.index(123) )"
   ]
  }
 ],
 "metadata": {
  "celltoolbar": "Attachments",
  "kernelspec": {
   "display_name": "Python 3",
   "language": "python",
   "name": "python3"
  },
  "language_info": {
   "codemirror_mode": {
    "name": "ipython",
    "version": 3
   },
   "file_extension": ".py",
   "mimetype": "text/x-python",
   "name": "python",
   "nbconvert_exporter": "python",
   "pygments_lexer": "ipython3",
   "version": "3.7.3"
  },
  "varInspector": {
   "cols": {
    "lenName": 16,
    "lenType": 16,
    "lenVar": 40
   },
   "kernels_config": {
    "python": {
     "delete_cmd_postfix": "",
     "delete_cmd_prefix": "del ",
     "library": "var_list.py",
     "varRefreshCmd": "print(var_dic_list())"
    },
    "r": {
     "delete_cmd_postfix": ") ",
     "delete_cmd_prefix": "rm(",
     "library": "var_list.r",
     "varRefreshCmd": "cat(var_dic_list()) "
    }
   },
   "types_to_exclude": [
    "module",
    "function",
    "builtin_function_or_method",
    "instance",
    "_Feature"
   ],
   "window_display": false
  }
 },
 "nbformat": 4,
 "nbformat_minor": 2
}
